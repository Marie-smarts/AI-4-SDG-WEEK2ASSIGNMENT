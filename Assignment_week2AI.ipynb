{
  "nbformat": 4,
  "nbformat_minor": 0,
  "metadata": {
    "colab": {
      "provenance": []
    },
    "kernelspec": {
      "name": "python3",
      "display_name": "Python 3"
    },
    "language_info": {
      "name": "python"
    }
  },
  "cells": [
    {
      "cell_type": "code",
      "execution_count": 2,
      "metadata": {
        "colab": {
          "base_uri": "https://localhost:8080/"
        },
        "id": "QW4lNa6Ha-lt",
        "outputId": "d16cadff-b8b9-4a6a-947f-81b3f2d30044"
      },
      "outputs": [
        {
          "output_type": "stream",
          "name": "stdout",
          "text": [
            "✅ All libraries imported successfully!\n"
          ]
        }
      ],
      "source": [
        "# Import required libraries\n",
        "import pandas as pd\n",
        "import numpy as np\n",
        "import matplotlib.pyplot as plt\n",
        "import seaborn as sns\n",
        "from sklearn.model_selection import train_test_split, cross_val_score, StratifiedKFold\n",
        "from sklearn.preprocessing import StandardScaler, LabelEncoder\n",
        "from sklearn.linear_model import LogisticRegression\n",
        "from sklearn.ensemble import RandomForestClassifier\n",
        "from sklearn.metrics import (\n",
        "    accuracy_score, precision_score, recall_score, f1_score, roc_auc_score,\n",
        "    confusion_matrix, roc_curve, classification_report\n",
        ")\n",
        "import joblib\n",
        "import os\n",
        "import warnings\n",
        "warnings.filterwarnings('ignore')\n",
        "\n",
        "# Set style for better plots\n",
        "plt.style.use('seaborn-v0_8')\n",
        "sns.set_palette(\"husl\")\n",
        "\n",
        "print(\"✅ All libraries imported successfully!\")\n"
      ]
    },
    {
      "cell_type": "code",
      "source": [
        "# Create necessary directories\n",
        "os.makedirs('data', exist_ok=True)\n",
        "os.makedirs('models', exist_ok=True)\n",
        "os.makedirs('notebooks/figures', exist_ok=True)\n",
        "os.makedirs('src', exist_ok=True)\n",
        "\n",
        "print(\"✅ Directory structure created!\")\n"
      ],
      "metadata": {
        "colab": {
          "base_uri": "https://localhost:8080/"
        },
        "id": "IHpNLnRzcl6c",
        "outputId": "5812e846-f5dd-4c0d-e621-4f0829c69efb"
      },
      "execution_count": 3,
      "outputs": [
        {
          "output_type": "stream",
          "name": "stdout",
          "text": [
            "✅ Directory structure created!\n"
          ]
        }
      ]
    },
    {
      "cell_type": "code",
      "source": [
        "def load_data():\n",
        "    \"\"\"\n",
        "    Load health dataset. Try to download public dataset first,\n",
        "    if not available, generate synthetic data.\n",
        "    \"\"\"\n",
        "    try:\n",
        "        # Try to load from existing file first\n",
        "        if os.path.exists('data/health_data.csv'):\n",
        "            df = pd.read_csv('data/health_data.csv')\n",
        "            print(\"✅ Loaded existing health dataset\")\n",
        "            return df\n",
        "\n",
        "        # Try to download UCI Heart Disease dataset\n",
        "        print(\"Attempting to download UCI Heart Disease dataset...\")\n",
        "        url = \"https://archive.ics.uci.edu/ml/machine-learning-databases/heart-disease/processed.cleveland.data\"\n",
        "\n",
        "        # Column names for UCI Heart Disease dataset\n",
        "        columns = [\n",
        "            'age', 'sex', 'cp', 'trestbps', 'chol', 'fbs', 'restecg',\n",
        "            'thalach', 'exang', 'oldpeak', 'slope', 'ca', 'thal', 'target'\n",
        "        ]\n",
        "\n",
        "        df = pd.read_csv(url, names=columns)\n",
        "\n",
        "        # Clean and map to our required features\n",
        "        df['disease_present'] = (df['target'] > 0).astype(int)\n",
        "        df['blood_pressure'] = df['trestbps']  # Resting blood pressure\n",
        "        df['heart_rate'] = df['thalach']  # Maximum heart rate\n",
        "        df['glucose'] = df['fbs'] * 100 + np.random.normal(80, 20, len(df))  # Simulate glucose\n",
        "        df['temperature'] = np.random.normal(98.6, 1, len(df))  # Simulate temperature\n",
        "        df['BMI'] = np.random.normal(25, 5, len(df))  # Simulate BMI\n",
        "        df['chest_pain'] = df['cp'].map({0: 'No', 1: 'Yes', 2: 'Yes', 3: 'Yes'})\n",
        "        df['fatigue'] = np.random.choice(['No', 'Yes'], len(df), p=[0.7, 0.3])\n",
        "        df['diabetes'] = np.random.choice(['No', 'Yes'], len(df), p=[0.85, 0.15])\n",
        "        df['hypertension'] = np.random.choice(['No', 'Yes'], len(df), p=[0.8, 0.2])\n",
        "\n",
        "        # Select and rename columns\n",
        "        df = df[['age', 'sex', 'blood_pressure', 'heart_rate', 'temperature',\n",
        "                'glucose', 'BMI', 'chest_pain', 'fatigue', 'diabetes', 'hypertension', 'disease_present']]\n",
        "\n",
        "        # Save the processed dataset\n",
        "        df.to_csv('data/health_data.csv', index=False)\n",
        "        print(\"✅ Downloaded and processed UCI Heart Disease dataset\")\n",
        "        return df\n",
        "\n",
        "    except Exception as e:\n",
        "        print(f\"❌ Could not download public dataset: {e}\")\n",
        "        print(\"🔄 Generating synthetic health dataset...\")\n",
        "        return generate_synthetic_data()\n",
        "\n",
        "def generate_synthetic_data():\n",
        "    \"\"\"\n",
        "    Generate a realistic synthetic health dataset with 1000 samples.\n",
        "    \"\"\"\n",
        "    np.random.seed(42)\n",
        "    n_samples = 1000\n",
        "\n",
        "    # Generate base features\n",
        "    age = np.random.normal(50, 15, n_samples)\n",
        "    age = np.clip(age, 18, 90)  # Reasonable age range\n",
        "\n",
        "    sex = np.random.choice(['Male', 'Female'], n_samples, p=[0.5, 0.5])\n",
        "\n",
        "    # Blood pressure (systolic)\n",
        "    blood_pressure = np.random.normal(120, 20, n_samples)\n",
        "    blood_pressure = np.clip(blood_pressure, 80, 200)\n",
        "\n",
        "    # Heart rate\n",
        "    heart_rate = np.random.normal(75, 15, n_samples)\n",
        "    heart_rate = np.clip(heart_rate, 40, 120)\n",
        "\n",
        "    # Temperature\n",
        "    temperature = np.random.normal(98.6, 1, n_samples)\n",
        "    temperature = np.clip(temperature, 95, 105)\n",
        "\n",
        "    # Glucose\n",
        "    glucose = np.random.normal(100, 30, n_samples)\n",
        "    glucose = np.clip(glucose, 60, 300)\n",
        "\n",
        "    # BMI\n",
        "    bmi = np.random.normal(25, 5, n_samples)\n",
        "    bmi = np.clip(bmi, 15, 50)\n",
        "\n",
        "    # Categorical features\n",
        "    chest_pain = np.random.choice(['No', 'Yes'], n_samples, p=[0.8, 0.2])\n",
        "    fatigue = np.random.choice(['No', 'Yes'], n_samples, p=[0.7, 0.3])\n",
        "    diabetes = np.random.choice(['No', 'Yes'], n_samples, p=[0.85, 0.15])\n",
        "    hypertension = np.random.choice(['No', 'Yes'], n_samples, p=[0.8, 0.2])\n",
        "\n",
        "    # Create disease_present with realistic correlations\n",
        "    # Higher risk with: older age, high BP, high glucose, chest pain, diabetes, hypertension\n",
        "    risk_score = (\n",
        "        (age - 18) / 72 * 0.2 +  # Age factor\n",
        "        (blood_pressure - 80) / 120 * 0.3 +  # BP factor\n",
        "        (glucose - 60) / 240 * 0.2 +  # Glucose factor\n",
        "        (chest_pain == 'Yes') * 0.3 +  # Chest pain factor\n",
        "        (diabetes == 'Yes') * 0.2 +  # Diabetes factor\n",
        "        (hypertension == 'Yes') * 0.2 +  # Hypertension factor\n",
        "        (fatigue == 'Yes') * 0.1  # Fatigue factor\n",
        "    )\n",
        "\n",
        "    # Convert risk score to binary outcome\n",
        "    disease_present = (risk_score + np.random.normal(0, 0.1, n_samples) > 0.4).astype(int)\n",
        "\n",
        "    # Create DataFrame\n",
        "    df = pd.DataFrame({\n",
        "        'age': age,\n",
        "        'sex': sex,\n",
        "        'blood_pressure': blood_pressure,\n",
        "        'heart_rate': heart_rate,\n",
        "        'temperature': temperature,\n",
        "        'glucose': glucose,\n",
        "        'BMI': bmi,\n",
        "        'chest_pain': chest_pain,\n",
        "        'fatigue': fatigue,\n",
        "        'diabetes': diabetes,\n",
        "        'hypertension': hypertension,\n",
        "        'disease_present': disease_present\n",
        "    })\n",
        "\n",
        "    # Save dataset\n",
        "    df.to_csv('data/health_data.csv', index=False)\n",
        "    print(\"✅ Generated synthetic health dataset with 1000 samples\")\n",
        "    return df\n",
        "\n",
        "# Load the dataset\n",
        "df = load_data()\n"
      ],
      "metadata": {
        "colab": {
          "base_uri": "https://localhost:8080/"
        },
        "id": "eI4Yfyfmcu8v",
        "outputId": "0e165ab6-5c7d-4f0d-ee5d-233acbd031f3"
      },
      "execution_count": 4,
      "outputs": [
        {
          "output_type": "stream",
          "name": "stdout",
          "text": [
            "Attempting to download UCI Heart Disease dataset...\n",
            "✅ Downloaded and processed UCI Heart Disease dataset\n"
          ]
        }
      ]
    },
    {
      "cell_type": "code",
      "source": [
        "def inspect_data(df):\n",
        "    \"\"\"\n",
        "    Inspect and print basic summary of the dataset.\n",
        "    \"\"\"\n",
        "    print(\"📊 DATASET OVERVIEW\")\n",
        "    print(\"=\" * 50)\n",
        "    print(f\"Dataset shape: {df.shape}\")\n",
        "    print(f\"\\nFirst 5 rows:\")\n",
        "    print(df.head())\n",
        "\n",
        "    print(f\"\\nData types:\")\n",
        "    print(df.dtypes)\n",
        "\n",
        "    print(f\"\\nMissing values:\")\n",
        "    print(df.isnull().sum())\n",
        "\n",
        "    print(f\"\\nClass balance:\")\n",
        "    print(df['disease_present'].value_counts())\n",
        "    print(f\"Disease prevalence: {df['disease_present'].mean():.2%}\")\n",
        "\n",
        "    print(f\"\\nBasic statistics:\")\n",
        "    print(df.describe())\n",
        "\n",
        "inspect_data(df)\n"
      ],
      "metadata": {
        "colab": {
          "base_uri": "https://localhost:8080/"
        },
        "id": "_hA8yjd3c0V2",
        "outputId": "e7939fcc-4cc6-445c-adcb-1c17d0f32d26"
      },
      "execution_count": 5,
      "outputs": [
        {
          "output_type": "stream",
          "name": "stdout",
          "text": [
            "📊 DATASET OVERVIEW\n",
            "==================================================\n",
            "Dataset shape: (303, 12)\n",
            "\n",
            "First 5 rows:\n",
            "    age  sex  blood_pressure  heart_rate  temperature     glucose        BMI  \\\n",
            "0  63.0  1.0           145.0       150.0    97.427849  164.035894  21.465551   \n",
            "1  67.0  1.0           160.0       108.0   100.306407  104.247697  31.309550   \n",
            "2  67.0  1.0           120.0       129.0    98.458485   63.611199  12.853870   \n",
            "3  37.0  1.0           130.0       187.0    97.534591   95.385983  29.315117   \n",
            "4  41.0  0.0           130.0       172.0    98.448219   32.613807  29.845214   \n",
            "\n",
            "  chest_pain fatigue diabetes hypertension  disease_present  \n",
            "0        Yes     Yes       No           No                0  \n",
            "1        NaN     Yes       No          Yes                1  \n",
            "2        NaN     Yes      Yes           No                1  \n",
            "3        Yes      No       No           No                0  \n",
            "4        Yes      No       No          Yes                0  \n",
            "\n",
            "Data types:\n",
            "age                float64\n",
            "sex                float64\n",
            "blood_pressure     float64\n",
            "heart_rate         float64\n",
            "temperature        float64\n",
            "glucose            float64\n",
            "BMI                float64\n",
            "chest_pain          object\n",
            "fatigue             object\n",
            "diabetes            object\n",
            "hypertension        object\n",
            "disease_present      int64\n",
            "dtype: object\n",
            "\n",
            "Missing values:\n",
            "age                  0\n",
            "sex                  0\n",
            "blood_pressure       0\n",
            "heart_rate           0\n",
            "temperature          0\n",
            "glucose              0\n",
            "BMI                  0\n",
            "chest_pain         144\n",
            "fatigue              0\n",
            "diabetes             0\n",
            "hypertension         0\n",
            "disease_present      0\n",
            "dtype: int64\n",
            "\n",
            "Class balance:\n",
            "disease_present\n",
            "0    164\n",
            "1    139\n",
            "Name: count, dtype: int64\n",
            "Disease prevalence: 45.87%\n",
            "\n",
            "Basic statistics:\n",
            "              age         sex  blood_pressure  heart_rate  temperature  \\\n",
            "count  303.000000  303.000000      303.000000  303.000000   303.000000   \n",
            "mean    54.438944    0.679868      131.689769  149.607261    98.631249   \n",
            "std      9.038662    0.467299       17.599748   22.875003     1.062755   \n",
            "min     29.000000    0.000000       94.000000   71.000000    96.219985   \n",
            "25%     48.000000    0.000000      120.000000  133.500000    97.857955   \n",
            "50%     56.000000    1.000000      130.000000  153.000000    98.694401   \n",
            "75%     61.000000    1.000000      140.000000  166.000000    99.375544   \n",
            "max     77.000000    1.000000      200.000000  202.000000   101.526896   \n",
            "\n",
            "          glucose         BMI  disease_present  \n",
            "count  303.000000  303.000000       303.000000  \n",
            "mean    96.008482   24.726234         0.458746  \n",
            "std     40.119380    4.724591         0.499120  \n",
            "min     26.538848   10.488675         0.000000  \n",
            "25%     71.306048   21.679032         0.000000  \n",
            "50%     85.281854   24.708755         0.000000  \n",
            "75%    104.502657   27.348679         1.000000  \n",
            "max    229.551553   39.003842         1.000000  \n"
          ]
        }
      ]
    },
    {
      "cell_type": "code",
      "source": [
        "def preprocess_data(df):\n",
        "    \"\"\"\n",
        "    Clean and preprocess the dataset.\n",
        "    \"\"\"\n",
        "    print(\"🔧 PREPROCESSING DATA\")\n",
        "    print(\"=\" * 50)\n",
        "\n",
        "    df_clean = df.copy()\n",
        "\n",
        "    # 1. Handle impossible values\n",
        "    print(\"Cleaning impossible values...\")\n",
        "\n",
        "    # Age: 18-90\n",
        "    df_clean['age'] = df_clean['age'].clip(18, 90)\n",
        "\n",
        "    # Blood pressure: 60-250\n",
        "    df_clean['blood_pressure'] = df_clean['blood_pressure'].clip(60, 250)\n",
        "\n",
        "    # Heart rate: 30-200\n",
        "    df_clean['heart_rate'] = df_clean['heart_rate'].clip(30, 200)\n",
        "\n",
        "    # Temperature: 90-110\n",
        "    df_clean['temperature'] = df_clean['temperature'].clip(90, 110)\n",
        "\n",
        "    # Glucose: 50-400\n",
        "    df_clean['glucose'] = df_clean['glucose'].clip(50, 400)\n",
        "\n",
        "    # BMI: 10-60\n",
        "    df_clean['BMI'] = df_clean['BMI'].clip(10, 60)\n",
        "\n",
        "    # 2. Handle missing values\n",
        "    print(\"Handling missing values...\")\n",
        "\n",
        "    # Numeric columns: impute with median\n",
        "    numeric_cols = ['age', 'blood_pressure', 'heart_rate', 'temperature', 'glucose', 'BMI']\n",
        "    for col in numeric_cols:\n",
        "        if df_clean[col].isnull().any():\n",
        "            median_val = df_clean[col].median()\n",
        "            df_clean[col].fillna(median_val, inplace=True)\n",
        "            print(f\"  - {col}: filled {df_clean[col].isnull().sum()} missing values with median {median_val:.2f}\")\n",
        "\n",
        "    # Categorical columns: impute with mode\n",
        "    categorical_cols = ['sex', 'chest_pain', 'fatigue', 'diabetes', 'hypertension']\n",
        "    for col in categorical_cols:\n",
        "        if df_clean[col].isnull().any():\n",
        "            mode_val = df_clean[col].mode()[0]\n",
        "            df_clean[col].fillna(mode_val, inplace=True)\n",
        "            print(f\"  - {col}: filled {df_clean[col].isnull().sum()} missing values with mode '{mode_val}'\")\n",
        "\n",
        "    # 3. Feature engineering\n",
        "    print(\"Creating engineered features...\")\n",
        "\n",
        "    # Create pulse pressure (simplified as BP variation)\n",
        "    df_clean['pulse_pressure'] = df_clean['blood_pressure'] - 80  # Simplified pulse pressure\n",
        "\n",
        "    # 4. Encode categorical features\n",
        "    print(\"Encoding categorical features...\")\n",
        "\n",
        "    # One-hot encoding for categorical variables\n",
        "    df_encoded = pd.get_dummies(df_clean, columns=['sex', 'chest_pain', 'fatigue', 'diabetes', 'hypertension'],\n",
        "                               prefix=['sex', 'chest_pain', 'fatigue', 'diabetes', 'hypertension'])\n",
        "\n",
        "    print(f\"Dataset shape after preprocessing: {df_encoded.shape}\")\n",
        "    print(f\"Features: {list(df_encoded.columns)}\")\n",
        "\n",
        "    return df_encoded\n",
        "\n",
        "# Preprocess the data\n",
        "df_processed = preprocess_data(df)\n"
      ],
      "metadata": {
        "colab": {
          "base_uri": "https://localhost:8080/"
        },
        "id": "P2CrZFz6dFmY",
        "outputId": "3ab971f5-37a4-4051-f439-09ea517feca7"
      },
      "execution_count": 6,
      "outputs": [
        {
          "output_type": "stream",
          "name": "stdout",
          "text": [
            "🔧 PREPROCESSING DATA\n",
            "==================================================\n",
            "Cleaning impossible values...\n",
            "Handling missing values...\n",
            "  - chest_pain: filled 0 missing values with mode 'Yes'\n",
            "Creating engineered features...\n",
            "Encoding categorical features...\n",
            "Dataset shape after preprocessing: (303, 17)\n",
            "Features: ['age', 'blood_pressure', 'heart_rate', 'temperature', 'glucose', 'BMI', 'disease_present', 'pulse_pressure', 'sex_0.0', 'sex_1.0', 'chest_pain_Yes', 'fatigue_No', 'fatigue_Yes', 'diabetes_No', 'diabetes_Yes', 'hypertension_No', 'hypertension_Yes']\n"
          ]
        }
      ]
    },
    {
      "cell_type": "code",
      "source": [
        "def prepare_features(df_processed):\n",
        "    \"\"\"\n",
        "    Prepare features and target for modeling.\n",
        "    \"\"\"\n",
        "    print(\"🎯 PREPARING FEATURES FOR MODELING\")\n",
        "    print(\"=\" * 50)\n",
        "\n",
        "    # Separate features and target\n",
        "    X = df_processed.drop('disease_present', axis=1)\n",
        "    y = df_processed['disease_present']\n",
        "\n",
        "    print(f\"Feature matrix shape: {X.shape}\")\n",
        "    print(f\"Target vector shape: {y.shape}\")\n",
        "    print(f\"Class distribution: {y.value_counts().to_dict()}\")\n",
        "\n",
        "    # Scale numeric features\n",
        "    print(\"Scaling numeric features...\")\n",
        "    scaler = StandardScaler()\n",
        "    X_scaled = scaler.fit_transform(X)\n",
        "    X_scaled = pd.DataFrame(X_scaled, columns=X.columns, index=X.index)\n",
        "\n",
        "    # Split data into train/test (80/20) with stratification\n",
        "    print(\"Splitting data into train/test sets...\")\n",
        "    X_train, X_test, y_train, y_test = train_test_split(\n",
        "        X_scaled, y, test_size=0.2, random_state=42, stratify=y\n",
        "    )\n",
        "\n",
        "    print(f\"Training set: {X_train.shape[0]} samples\")\n",
        "    print(f\"Test set: {X_test.shape[0]} samples\")\n",
        "    print(f\"Training class distribution: {y_train.value_counts().to_dict()}\")\n",
        "    print(f\"Test class distribution: {y_test.value_counts().to_dict()}\")\n",
        "\n",
        "    return X_train, X_test, y_train, y_test, scaler\n",
        "\n",
        "# Prepare features\n",
        "X_train, X_test, y_train, y_test, scaler = prepare_features(df_processed)\n"
      ],
      "metadata": {
        "colab": {
          "base_uri": "https://localhost:8080/"
        },
        "id": "0dkXzf0edNen",
        "outputId": "be60c16d-3e22-4faa-a0ff-d9d5fb409636"
      },
      "execution_count": 7,
      "outputs": [
        {
          "output_type": "stream",
          "name": "stdout",
          "text": [
            "🎯 PREPARING FEATURES FOR MODELING\n",
            "==================================================\n",
            "Feature matrix shape: (303, 16)\n",
            "Target vector shape: (303,)\n",
            "Class distribution: {0: 164, 1: 139}\n",
            "Scaling numeric features...\n",
            "Splitting data into train/test sets...\n",
            "Training set: 242 samples\n",
            "Test set: 61 samples\n",
            "Training class distribution: {0: 131, 1: 111}\n",
            "Test class distribution: {0: 33, 1: 28}\n"
          ]
        }
      ]
    },
    {
      "cell_type": "code",
      "source": [
        "def train_models(X_train, y_train):\n",
        "    \"\"\"\n",
        "    Train Logistic Regression and Random Forest models.\n",
        "    \"\"\"\n",
        "    print(\"🤖 TRAINING MODELS\")\n",
        "    print(\"=\" * 50)\n",
        "\n",
        "    # Initialize models\n",
        "    lr_model = LogisticRegression(random_state=42, max_iter=1000)\n",
        "    rf_model = RandomForestClassifier(n_estimators=100, random_state=42, max_depth=10)\n",
        "\n",
        "    # Train models\n",
        "    print(\"Training Logistic Regression...\")\n",
        "    lr_model.fit(X_train, y_train)\n",
        "\n",
        "    print(\"Training Random Forest...\")\n",
        "    rf_model.fit(X_train, y_train)\n",
        "\n",
        "    # Cross-validation\n",
        "    print(\"\\nPerforming 5-fold cross-validation...\")\n",
        "    cv = StratifiedKFold(n_splits=5, shuffle=True, random_state=42)\n",
        "\n",
        "    lr_scores = cross_val_score(lr_model, X_train, y_train, cv=cv, scoring='roc_auc')\n",
        "    rf_scores = cross_val_score(rf_model, X_train, y_train, cv=cv, scoring='roc_auc')\n",
        "\n",
        "    print(f\"Logistic Regression CV ROC AUC: {lr_scores.mean():.3f} (+/- {lr_scores.std() * 2:.3f})\")\n",
        "    print(f\"Random Forest CV ROC AUC: {rf_scores.mean():.3f} (+/- {rf_scores.std() * 2:.3f})\")\n",
        "\n",
        "    return lr_model, rf_model\n",
        "\n",
        "# Train models\n",
        "lr_model, rf_model = train_models(X_train, y_train)\n"
      ],
      "metadata": {
        "colab": {
          "base_uri": "https://localhost:8080/"
        },
        "id": "clgvgEgZdinY",
        "outputId": "8c260be8-3a6a-47c6-abf9-205ba3780ba8"
      },
      "execution_count": 8,
      "outputs": [
        {
          "output_type": "stream",
          "name": "stdout",
          "text": [
            "🤖 TRAINING MODELS\n",
            "==================================================\n",
            "Training Logistic Regression...\n",
            "Training Random Forest...\n",
            "\n",
            "Performing 5-fold cross-validation...\n",
            "Logistic Regression CV ROC AUC: 0.771 (+/- 0.139)\n",
            "Random Forest CV ROC AUC: 0.757 (+/- 0.089)\n"
          ]
        }
      ]
    },
    {
      "cell_type": "code",
      "source": [
        "def evaluate_models(lr_model, rf_model, X_test, y_test):\n",
        "    \"\"\"\n",
        "    Evaluate models and compute metrics.\n",
        "    \"\"\"\n",
        "    print(\"📊 EVALUATING MODELS\")\n",
        "    print(\"=\" * 50)\n",
        "\n",
        "    models = {\n",
        "        'Logistic Regression': lr_model,\n",
        "        'Random Forest': rf_model\n",
        "    }\n",
        "\n",
        "    results = {}\n",
        "\n",
        "    for name, model in models.items():\n",
        "        print(f\"\\n{name} Results:\")\n",
        "        print(\"-\" * 30)\n",
        "\n",
        "        # Make predictions\n",
        "        y_pred = model.predict(X_test)\n",
        "        y_pred_proba = model.predict_proba(X_test)[:, 1]\n",
        "\n",
        "        # Calculate metrics\n",
        "        accuracy = accuracy_score(y_test, y_pred)\n",
        "        precision = precision_score(y_test, y_pred)\n",
        "        recall = recall_score(y_test, y_pred)\n",
        "        f1 = f1_score(y_test, y_pred)\n",
        "        roc_auc = roc_auc_score(y_test, y_pred_proba)\n",
        "\n",
        "        # Store results\n",
        "        results[name] = {\n",
        "            'accuracy': accuracy,\n",
        "            'precision': precision,\n",
        "            'recall': recall,\n",
        "            'f1': f1,\n",
        "            'roc_auc': roc_auc,\n",
        "            'y_pred': y_pred,\n",
        "            'y_pred_proba': y_pred_proba\n",
        "        }\n",
        "\n",
        "        # Print metrics\n",
        "        print(f\"Accuracy: {accuracy:.3f}\")\n",
        "        print(f\"Precision: {precision:.3f}\")\n",
        "        print(f\"Recall: {recall:.3f}\")\n",
        "        print(f\"F1-Score: {f1:.3f}\")\n",
        "        print(f\"ROC AUC: {roc_auc:.3f}\")\n",
        "\n",
        "        # Print for easy copying to README\n",
        "        print(f\"\\n📋 COPY FOR README: {name} ROC AUC = {roc_auc:.2f}\")\n",
        "\n",
        "    return results\n",
        "\n",
        "# Evaluate models\n",
        "results = evaluate_models(lr_model, rf_model, X_test, y_test)\n"
      ],
      "metadata": {
        "colab": {
          "base_uri": "https://localhost:8080/"
        },
        "id": "q3bnSfmadl4w",
        "outputId": "06d4029e-2553-42a6-ffbf-48019346507a"
      },
      "execution_count": 9,
      "outputs": [
        {
          "output_type": "stream",
          "name": "stdout",
          "text": [
            "📊 EVALUATING MODELS\n",
            "==================================================\n",
            "\n",
            "Logistic Regression Results:\n",
            "------------------------------\n",
            "Accuracy: 0.721\n",
            "Precision: 0.704\n",
            "Recall: 0.679\n",
            "F1-Score: 0.691\n",
            "ROC AUC: 0.802\n",
            "\n",
            "📋 COPY FOR README: Logistic Regression ROC AUC = 0.80\n",
            "\n",
            "Random Forest Results:\n",
            "------------------------------\n",
            "Accuracy: 0.738\n",
            "Precision: 0.714\n",
            "Recall: 0.714\n",
            "F1-Score: 0.714\n",
            "ROC AUC: 0.815\n",
            "\n",
            "📋 COPY FOR README: Random Forest ROC AUC = 0.81\n"
          ]
        }
      ]
    },
    {
      "cell_type": "code",
      "source": [
        "def create_visualizations(results, rf_model, X_test, y_test):\n",
        "    \"\"\"\n",
        "    Create and save visualization plots.\n",
        "    \"\"\"\n",
        "    print(\"📈 CREATING VISUALIZATIONS\")\n",
        "    print(\"=\" * 50)\n",
        "\n",
        "    # 1. Confusion Matrix for Random Forest\n",
        "    plt.figure(figsize=(8, 6))\n",
        "    cm = confusion_matrix(y_test, results['Random Forest']['y_pred'])\n",
        "    sns.heatmap(cm, annot=True, fmt='d', cmap='Blues',\n",
        "                xticklabels=['No Disease', 'Disease'],\n",
        "                yticklabels=['No Disease', 'Disease'])\n",
        "    plt.title('Confusion Matrix - Random Forest', fontsize=16, fontweight='bold')\n",
        "    plt.xlabel('Predicted', fontsize=12)\n",
        "    plt.ylabel('Actual', fontsize=12)\n",
        "    plt.tight_layout()\n",
        "    plt.savefig('notebooks/figures/confusion_matrix.png', dpi=300, bbox_inches='tight')\n",
        "    plt.show()\n",
        "\n",
        "    # 2. ROC Curve (both models)\n",
        "    plt.figure(figsize=(10, 8))\n",
        "\n",
        "    for name, result in results.items():\n",
        "        fpr, tpr, _ = roc_curve(y_test, result['y_pred_proba'])\n",
        "        plt.plot(fpr, tpr, linewidth=2, label=f'{name} (AUC = {result[\"roc_auc\"]:.3f})')\n",
        "\n",
        "    plt.plot([0, 1], [0, 1], 'k--', linewidth=1, label='Random Classifier')\n",
        "    plt.xlim([0.0, 1.0])\n",
        "    plt.ylim([0.0, 1.05])\n",
        "    plt.xlabel('False Positive Rate', fontsize=12)\n",
        "    plt.ylabel('True Positive Rate', fontsize=12)\n",
        "    plt.title('ROC Curves Comparison', fontsize=16, fontweight='bold')\n",
        "    plt.legend(loc=\"lower right\", fontsize=12)\n",
        "    plt.grid(True, alpha=0.3)\n",
        "    plt.tight_layout()\n",
        "    plt.savefig('notebooks/figures/roc_curve.png', dpi=300, bbox_inches='tight')\n",
        "    plt.show()\n",
        "\n",
        "    # 3. Feature Importance (Random Forest)\n",
        "    feature_importance = rf_model.feature_importances_\n",
        "    feature_names = X_test.columns\n",
        "\n",
        "    # Get top 8 features\n",
        "    importance_df = pd.DataFrame({\n",
        "        'feature': feature_names,\n",
        "        'importance': feature_importance\n",
        "    }).sort_values('importance', ascending=False).head(8)\n",
        "\n",
        "    plt.figure(figsize=(12, 8))\n",
        "    sns.barplot(data=importance_df, x='importance', y='feature', palette='viridis')\n",
        "    plt.title('Top 8 Feature Importances - Random Forest', fontsize=16, fontweight='bold')\n",
        "    plt.xlabel('Importance Score', fontsize=12)\n",
        "    plt.ylabel('Features', fontsize=12)\n",
        "    plt.tight_layout()\n",
        "    plt.savefig('notebooks/figures/feature_importance.png', dpi=300, bbox_inches='tight')\n",
        "    plt.show()\n",
        "\n",
        "    # Print top 3 features for interpretation\n",
        "    print(\"\\n🔍 FEATURE INTERPRETATION\")\n",
        "    print(\"=\" * 50)\n",
        "    top_3 = importance_df.head(3)\n",
        "    print(\"Top 3 Most Important Features:\")\n",
        "    for idx, row in top_3.iterrows():\n",
        "        print(f\"  {row['feature']}: {row['importance']:.3f}\")\n",
        "\n",
        "    print(\"\\nInterpretation:\")\n",
        "    print(\"The top 3 features are the most predictive of disease presence.\")\n",
        "    print(\"Higher importance scores indicate stronger predictive power.\")\n",
        "    print(\"These features should be prioritized in clinical screening.\")\n",
        "\n",
        "    return importance_df\n",
        "\n",
        "# Create visualizations\n",
        "importance_df = create_visualizations(results, rf_model, X_test, y_test)\n"
      ],
      "metadata": {
        "colab": {
          "base_uri": "https://localhost:8080/",
          "height": 1000
        },
        "id": "_f5vOddwdqDK",
        "outputId": "311f66aa-d9f4-4425-d682-8421953c052f"
      },
      "execution_count": 10,
      "outputs": [
        {
          "output_type": "stream",
          "name": "stdout",
          "text": [
            "📈 CREATING VISUALIZATIONS\n",
            "==================================================\n"
          ]
        },
        {
          "output_type": "display_data",
          "data": {
            "text/plain": [
              "<Figure size 800x600 with 2 Axes>"
            ],
            "image/png": "[encoded data removed]"
          },
          "metadata": {}
        },
        {
          "output_type": "display_data",
          "data": {
            "text/plain": [
              "<Figure size 1000x800 with 1 Axes>"
            ],
            "image/png": "[encoded data removed]"
          },
          "metadata": {}
        },
        {
          "output_type": "display_data",
          "data": {
            "text/plain": [
              "<Figure size 1200x800 with 1 Axes>"
            ],
            "image/png": "[encoded data removed]"
          },
          "metadata": {}
        },
        {
          "output_type": "stream",
          "name": "stdout",
          "text": [
            "\n",
            "🔍 FEATURE INTERPRETATION\n",
            "==================================================\n",
            "Top 3 Most Important Features:\n",
            "  heart_rate: 0.232\n",
            "  age: 0.129\n",
            "  BMI: 0.117\n",
            "\n",
            "Interpretation:\n",
            "The top 3 features are the most predictive of disease presence.\n",
            "Higher importance scores indicate stronger predictive power.\n",
            "These features should be prioritized in clinical screening.\n"
          ]
        }
      ]
    },
    {
      "cell_type": "code",
      "source": [
        "def create_model_comparison_table(results):\n",
        "    \"\"\"\n",
        "    Create a comparison table of model metrics.\n",
        "    \"\"\"\n",
        "    print(\"\\n📊 MODEL COMPARISON TABLE\")\n",
        "    print(\"=\" * 50)\n",
        "\n",
        "    # Create comparison DataFrame\n",
        "    comparison_data = []\n",
        "    for name, result in results.items():\n",
        "        comparison_data.append({\n",
        "            'Model': name,\n",
        "            'Accuracy': f\"{result['accuracy']:.3f}\",\n",
        "            'Precision': f\"{result['precision']:.3f}\",\n",
        "            'Recall': f\"{result['recall']:.3f}\",\n",
        "            'F1-Score': f\"{result['f1']:.3f}\",\n",
        "            'ROC AUC': f\"{result['roc_auc']:.3f}\"\n",
        "        })\n",
        "\n",
        "    comparison_df = pd.DataFrame(comparison_data)\n",
        "    print(comparison_df.to_string(index=False))\n",
        "\n",
        "    # Determine best model\n",
        "    best_model = max(results.keys(), key=lambda x: results[x]['roc_auc'])\n",
        "    print(f\"\\n🏆 Best Model: {best_model} (ROC AUC = {results[best_model]['roc_auc']:.3f})\")\n",
        "\n",
        "    return comparison_df, best_model\n",
        "\n",
        "# Create comparison table\n",
        "comparison_df, best_model = create_model_comparison_table(results)\n"
      ],
      "metadata": {
        "colab": {
          "base_uri": "https://localhost:8080/"
        },
        "id": "oIG0g2Z-d-nm",
        "outputId": "4b107671-4235-4308-af68-8be4b04c57f5"
      },
      "execution_count": 11,
      "outputs": [
        {
          "output_type": "stream",
          "name": "stdout",
          "text": [
            "\n",
            "📊 MODEL COMPARISON TABLE\n",
            "==================================================\n",
            "              Model Accuracy Precision Recall F1-Score ROC AUC\n",
            "Logistic Regression    0.721     0.704  0.679    0.691   0.802\n",
            "      Random Forest    0.738     0.714  0.714    0.714   0.815\n",
            "\n",
            "🏆 Best Model: Random Forest (ROC AUC = 0.815)\n"
          ]
        }
      ]
    },
    {
      "cell_type": "code",
      "source": [
        "def save_model(rf_model, scaler, best_model):\n",
        "    \"\"\"\n",
        "    Save the best performing model and scaler.\n",
        "    \"\"\"\n",
        "    print(\"💾 SAVING MODEL\")\n",
        "    print(\"=\" * 50)\n",
        "\n",
        "    # Save the Random Forest model (best model)\n",
        "    model_path = 'models/rf_health_model.joblib'\n",
        "    joblib.dump(rf_model, model_path)\n",
        "    print(f\"✅ Model saved to: {model_path}\")\n",
        "\n",
        "    # Save the scaler\n",
        "    scaler_path = 'models/scaler.joblib'\n",
        "    joblib.dump(scaler, scaler_path)\n",
        "    print(f\"✅ Scaler saved to: {scaler_path}\")\n",
        "\n",
        "    print(f\"\\n📋 Model Performance Summary:\")\n",
        "    print(f\"Best Model: {best_model}\")\n",
        "    print(f\"ROC AUC: {results[best_model]['roc_auc']:.3f}\")\n",
        "    print(f\"Accuracy: {results[best_model]['accuracy']:.3f}\")\n",
        "    print(f\"F1-Score: {results[best_model]['f1']:.3f}\")\n",
        "\n",
        "# Save model\n",
        "save_model(rf_model, scaler, best_model)\n"
      ],
      "metadata": {
        "colab": {
          "base_uri": "https://localhost:8080/"
        },
        "id": "TPCNW1oYeCej",
        "outputId": "b03db582-6827-449c-e56e-61a52b8169f3"
      },
      "execution_count": 12,
      "outputs": [
        {
          "output_type": "stream",
          "name": "stdout",
          "text": [
            "💾 SAVING MODEL\n",
            "==================================================\n",
            "✅ Model saved to: models/rf_health_model.joblib\n",
            "✅ Scaler saved to: models/scaler.joblib\n",
            "\n",
            "📋 Model Performance Summary:\n",
            "Best Model: Random Forest\n",
            "ROC AUC: 0.815\n",
            "Accuracy: 0.738\n",
            "F1-Score: 0.714\n"
          ]
        }
      ]
    },
    {
      "cell_type": "code",
      "source": [
        "print(\"\\n🎉 PROJECT COMPLETED SUCCESSFULLY!\")\n",
        "print(\"=\" * 50)\n",
        "print(\"\\n📁 Files created:\")\n",
        "print(\"  ✅ data/health_data.csv - Dataset\")\n",
        "print(\"  ✅ models/rf_health_model.joblib - Trained model\")\n",
        "print(\"  ✅ models/scaler.joblib - Feature scaler\")\n",
        "print(\"  ✅ notebooks/figures/confusion_matrix.png\")\n",
        "print(\"  ✅ notebooks/figures/roc_curve.png\")\n",
        "print(\"  ✅ notebooks/figures/feature_importance.png\")\n",
        "print(\"\\n📊 Final Results:\")\n",
        "print(f\"  🏆 Best Model: {best_model}\")\n",
        "print(f\"  📈 ROC AUC: {results[best_model]['roc_auc']:.3f}\")\n",
        "print(f\"  🎯 Accuracy: {results[best_model]['accuracy']:.3f}\")\n",
        "print(f\"  ⚖️ F1-Score: {results[best_model]['f1']:.3f}\")\n",
        "print(\"\\n🚀 Ready for SDG 3 Health Impact!\")\n",
        "print(\"This model can help identify patients at risk for health conditions\")\n",
        "print(\"based on routine clinical measurements, supporting early intervention\")\n",
        "print(\"and improved health outcomes (SDG 3: Good Health and Well-being).\")\n"
      ],
      "metadata": {
        "colab": {
          "base_uri": "https://localhost:8080/"
        },
        "id": "vstBXOUmeJf9",
        "outputId": "39f57f19-0522-4af5-d97a-96d9b471220e"
      },
      "execution_count": 13,
      "outputs": [
        {
          "output_type": "stream",
          "name": "stdout",
          "text": [
            "\n",
            "🎉 PROJECT COMPLETED SUCCESSFULLY!\n",
            "==================================================\n",
            "\n",
            "📁 Files created:\n",
            "  ✅ data/health_data.csv - Dataset\n",
            "  ✅ models/rf_health_model.joblib - Trained model\n",
            "  ✅ models/scaler.joblib - Feature scaler\n",
            "  ✅ notebooks/figures/confusion_matrix.png\n",
            "  ✅ notebooks/figures/roc_curve.png\n",
            "  ✅ notebooks/figures/feature_importance.png\n",
            "\n",
            "📊 Final Results:\n",
            "  🏆 Best Model: Random Forest\n",
            "  📈 ROC AUC: 0.815\n",
            "  🎯 Accuracy: 0.738\n",
            "  ⚖️ F1-Score: 0.714\n",
            "\n",
            "🚀 Ready for SDG 3 Health Impact!\n",
            "This model can help identify patients at risk for health conditions\n",
            "based on routine clinical measurements, supporting early intervention\n",
            "and improved health outcomes (SDG 3: Good Health and Well-being).\n"
          ]
        }
      ]
    }
  ]
}